{
 "cells": [
  {
   "cell_type": "code",
   "execution_count": null,
   "metadata": {
    "_cell_guid": "b1076dfc-b9ad-4769-8c92-a6c4dae69d19",
    "_uuid": "8f2839f25d086af736a60e9eeb907d3b93b6e0e5",
    "execution": {
     "iopub.execute_input": "2021-01-05T22:22:11.917479Z",
     "iopub.status.busy": "2021-01-05T22:22:11.916761Z",
     "iopub.status.idle": "2021-01-05T22:22:11.965777Z",
     "shell.execute_reply": "2021-01-05T22:22:11.966575Z"
    },
    "papermill": {
     "duration": 0.064767,
     "end_time": "2021-01-05T22:22:11.966834",
     "exception": false,
     "start_time": "2021-01-05T22:22:11.902067",
     "status": "completed"
    },
    "tags": []
   },
   "outputs": [],
   "source": [
    "# This Python 3 environment comes with many helpful analytics libraries installed\n",
    "# It is defined by the kaggle/python Docker image: https://github.com/kaggle/docker-python\n",
    "# For example, here's several helpful packages to load\n",
    "\n",
    "import numpy as np # linear algebra\n",
    "import pandas as pd # data processing, CSV file I/O (e.g. pd.read_csv)\n",
    "\n",
    "# Input data files are available in the read-only \"../input/\" directory\n",
    "# For example, running this (by clicking run or pressing Shift+Enter) will list all files under the input directory\n",
    "\n",
    "import os\n",
    "for dirname, _, filenames in os.walk('/kaggle/input'):\n",
    "    for filename in filenames:\n",
    "        print(os.path.join(dirname, filename))\n",
    "\n",
    "# You can write up to 20GB to the current directory (/kaggle/working/) that gets preserved as output when you create a version using \"Save & Run All\" \n",
    "# You can also write temporary files to /kaggle/temp/, but they won't be saved outside of the current session"
   ]
  },
  {
   "cell_type": "code",
   "execution_count": null,
   "metadata": {
    "execution": {
     "iopub.execute_input": "2021-01-05T22:22:12.004215Z",
     "iopub.status.busy": "2021-01-05T22:22:12.003440Z",
     "iopub.status.idle": "2021-01-05T22:22:14.314466Z",
     "shell.execute_reply": "2021-01-05T22:22:14.313905Z"
    },
    "papermill": {
     "duration": 2.337424,
     "end_time": "2021-01-05T22:22:14.314599",
     "exception": false,
     "start_time": "2021-01-05T22:22:11.977175",
     "status": "completed"
    },
    "tags": []
   },
   "outputs": [],
   "source": [
    "# List all installed packages and package versions\n",
    "!pip freeze"
   ]
  },
  {
   "cell_type": "code",
   "execution_count": null,
   "metadata": {
    "execution": {
     "iopub.execute_input": "2021-01-05T22:22:14.338427Z",
     "iopub.status.busy": "2021-01-05T22:22:14.337480Z",
     "iopub.status.idle": "2021-01-05T22:24:01.584400Z",
     "shell.execute_reply": "2021-01-05T22:24:01.583351Z"
    },
    "papermill": {
     "duration": 107.260959,
     "end_time": "2021-01-05T22:24:01.584537",
     "exception": false,
     "start_time": "2021-01-05T22:22:14.323578",
     "status": "completed"
    },
    "tags": []
   },
   "outputs": [],
   "source": [
    "!pip install tensorflow==2.4.0 "
   ]
  },
  {
   "cell_type": "code",
   "execution_count": null,
   "metadata": {
    "execution": {
     "iopub.execute_input": "2021-01-05T22:24:02.252121Z",
     "iopub.status.busy": "2021-01-05T22:24:02.251445Z",
     "iopub.status.idle": "2021-01-05T22:24:02.485843Z",
     "shell.execute_reply": "2021-01-05T22:24:02.485066Z"
    },
    "papermill": {
     "duration": 0.568901,
     "end_time": "2021-01-05T22:24:02.485992",
     "exception": false,
     "start_time": "2021-01-05T22:24:01.917091",
     "status": "completed"
    },
    "tags": []
   },
   "outputs": [],
   "source": [
    "import h5py\n",
    "filename = \"file.hdf5\"\n",
    "\n",
    "with h5py.File(\"../input/cvanddly3project/MobileNetV2_last_model.h5\", \"r\") as f:\n",
    "    # List all groups\n",
    "    print(\"Keys: %s\" % f.keys())\n",
    "    a_group_key = list(f.keys())[0]\n",
    "\n",
    "    # Get the data\n",
    "    data = list(f[a_group_key])\n",
    "print(data)\n",
    "    \n",
    "print(\"inception..........................\")\n",
    "with h5py.File(\"../input/cvanddly3project/InceptionV3TLonFacialExpr.h5\", \"r\") as f:\n",
    "    # List all groups\n",
    "    print(\"Keys: %s\" % f.keys())\n",
    "    a_group_key = list(f.keys())[0]\n",
    "\n",
    "    # Get the data\n",
    "    data = list(f[a_group_key])\n",
    "print(data)"
   ]
  },
  {
   "cell_type": "code",
   "execution_count": null,
   "metadata": {
    "execution": {
     "iopub.execute_input": "2021-01-05T22:24:03.131683Z",
     "iopub.status.busy": "2021-01-05T22:24:03.130773Z",
     "iopub.status.idle": "2021-01-05T22:24:05.352550Z",
     "shell.execute_reply": "2021-01-05T22:24:05.353050Z"
    },
    "papermill": {
     "duration": 2.546697,
     "end_time": "2021-01-05T22:24:05.353205",
     "exception": false,
     "start_time": "2021-01-05T22:24:02.806508",
     "status": "completed"
    },
    "tags": []
   },
   "outputs": [],
   "source": [
    "!pip uninstall numpy -y\n",
    "# !pip install numpy "
   ]
  },
  {
   "cell_type": "code",
   "execution_count": null,
   "metadata": {
    "execution": {
     "iopub.execute_input": "2021-01-05T22:24:06.000634Z",
     "iopub.status.busy": "2021-01-05T22:24:05.996569Z",
     "iopub.status.idle": "2021-01-05T22:24:11.691311Z",
     "shell.execute_reply": "2021-01-05T22:24:11.692086Z"
    },
    "papermill": {
     "duration": 6.019419,
     "end_time": "2021-01-05T22:24:11.692248",
     "exception": false,
     "start_time": "2021-01-05T22:24:05.672829",
     "status": "completed"
    },
    "tags": []
   },
   "outputs": [],
   "source": [
    "from keras.models import load_model\n",
    "import tensorflow_hub as hub\n",
    "import tensorflow as tf\n",
    "\n",
    "# inception_model =  load_model('../input/cvanddly3project/InceptionV3TLonFacialExpr.h5', custom_objects={'KerasLayer':hub.KerasLayer})\n",
    "# print(\"Inception Config\")\n",
    "# print(inception_model.get_config())\n",
    "mobilenet_model =  load_model('../input/cvanddly3project/MobileNetV2_last_model.h5')\n",
    "print(\"MobileNet Config\")\n",
    "print(mobilenet_model.get_config())"
   ]
  },
  {
   "cell_type": "code",
   "execution_count": null,
   "metadata": {
    "execution": {
     "iopub.execute_input": "2021-01-05T22:24:12.348110Z",
     "iopub.status.busy": "2021-01-05T22:24:12.347398Z",
     "iopub.status.idle": "2021-01-05T22:24:29.183440Z",
     "shell.execute_reply": "2021-01-05T22:24:29.182669Z"
    },
    "papermill": {
     "duration": 17.160182,
     "end_time": "2021-01-05T22:24:29.183563",
     "exception": false,
     "start_time": "2021-01-05T22:24:12.023381",
     "status": "completed"
    },
    "tags": []
   },
   "outputs": [],
   "source": [
    "!pip install \"numpy==1.18.2\"\n",
    "# or\n",
    "# !pip uninstall \"numpy_mips64==1.17.4\" -y"
   ]
  },
  {
   "cell_type": "code",
   "execution_count": null,
   "metadata": {
    "execution": {
     "iopub.execute_input": "2021-01-05T22:24:29.971515Z",
     "iopub.status.busy": "2021-01-05T22:24:29.970777Z",
     "iopub.status.idle": "2021-01-05T22:24:41.762862Z",
     "shell.execute_reply": "2021-01-05T22:24:41.761780Z"
    },
    "papermill": {
     "duration": 12.175821,
     "end_time": "2021-01-05T22:24:41.762985",
     "exception": false,
     "start_time": "2021-01-05T22:24:29.587164",
     "status": "completed"
    },
    "tags": []
   },
   "outputs": [],
   "source": [
    " !pip uninstall decorator -y &&  pip install decorator"
   ]
  },
  {
   "cell_type": "code",
   "execution_count": null,
   "metadata": {
    "_cell_guid": "79c7e3d0-c299-4dcb-8224-4455121ee9b0",
    "_uuid": "d629ff2d2480ee46fbb7e2d37f6b5fab8052498a",
    "execution": {
     "iopub.execute_input": "2021-01-05T22:24:42.514727Z",
     "iopub.status.busy": "2021-01-05T22:24:42.514069Z",
     "iopub.status.idle": "2021-01-05T22:25:03.152505Z",
     "shell.execute_reply": "2021-01-05T22:25:03.151379Z"
    },
    "papermill": {
     "duration": 21.013278,
     "end_time": "2021-01-05T22:25:03.152644",
     "exception": false,
     "start_time": "2021-01-05T22:24:42.139366",
     "status": "completed"
    },
    "tags": []
   },
   "outputs": [],
   "source": [
    "import matplotlib.pyplot as plt\n",
    "import matplotlib.image as mpimg\n",
    "from PIL import Image\n",
    "import numpy as np\n",
    "# from skimage import transform\n",
    "import cv2\n",
    "import sys\n",
    "\n",
    "\n",
    "    \n",
    "\n",
    "\n",
    "# # Names of the integer classes, i.e., 0 -> afraid, 1 -> angry, etc.\n",
    "class_names = ['afraid', 'angry', 'disgusted', 'happy', 'neutral', 'sad', 'surprised']\n",
    "\n",
    "def load(filePath):\n",
    "    image = cv2.imread(filePath)\n",
    "    gray = cv2.cvtColor(image, cv2.COLOR_BGR2GRAY)\n",
    "\n",
    "    faceCascade = cv2.CascadeClassifier(cv2.data.haarcascades + \"haarcascade_frontalface_default.xml\")\n",
    "    faces = faceCascade.detectMultiScale(\n",
    "        gray,\n",
    "        scaleFactor=1.3,\n",
    "        minNeighbors=3,\n",
    "        minSize=(30, 30)\n",
    "    )\n",
    "\n",
    "#     print(\"[INFO] Found {0} Faces.\".format(len(faces)))\n",
    "    for (x, y, w, h) in faces:\n",
    "        cv2.rectangle(image, (x, y), (x + w, y + h), (0, 224, 0), 2)\n",
    "        roi_color = image[y:y + h, x:x + w]\n",
    "        np_image = image\n",
    "        np_image = np.array(np_image).astype('float32')/255\n",
    "        np_image = np.resize(np_image, (224, 224, 3))\n",
    "        np_image = np.expand_dims(np_image, axis=0)\n",
    "        mobilenet_model.predict(np_image)        #change here the model\n",
    "        x = class_names\n",
    "        plt.imshow(image)\n",
    "        plt.axis('off')\n",
    "        y_pred=mobilenet_model.predict(np_image)\n",
    "#         print(x[np.argmax(y_pred,axis=1)[0]]) #model.predict_classes(image) is a 1 element array with the result of the prediction\n",
    "        plt.text(3, 8, x[np.argmax(y_pred,axis=1)[0]], fontsize=15, style='italic',bbox={'facecolor': 'red', 'alpha': 0.5, 'pad': 10})\n",
    "        plt.show()\n",
    "\n",
    "for filename in os.listdir(\"../input/faceexprtestimages/DorinNet/DorinNet/\"):\n",
    "    if filename.endswith(\".jpg\"): \n",
    "#         classify(os.path.join(\"../input/faceexprtestimages/DorinNet/DorinNet/\", filename))\n",
    "        load(os.path.join(\"../input/faceexprtestimages/DorinNet/DorinNet/\", filename))\n",
    "        continue\n",
    "    else:\n",
    "        continue"
   ]
  }
 ],
 "metadata": {
  "kernelspec": {
   "display_name": "Python 3",
   "language": "python",
   "name": "python3"
  },
  "language_info": {
   "codemirror_mode": {
    "name": "ipython",
    "version": 3
   },
   "file_extension": ".py",
   "mimetype": "text/x-python",
   "name": "python",
   "nbconvert_exporter": "python",
   "pygments_lexer": "ipython3",
   "version": "3.7.6"
  },
  "papermill": {
   "duration": 176.678182,
   "end_time": "2021-01-05T22:25:03.762881",
   "environment_variables": {},
   "exception": null,
   "input_path": "__notebook__.ipynb",
   "output_path": "__notebook__.ipynb",
   "parameters": {},
   "start_time": "2021-01-05T22:22:07.084699",
   "version": "2.1.0"
  }
 },
 "nbformat": 4,
 "nbformat_minor": 4
}