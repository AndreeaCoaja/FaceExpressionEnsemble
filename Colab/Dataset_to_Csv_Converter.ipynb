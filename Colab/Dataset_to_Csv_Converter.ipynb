{
  "nbformat": 4,
  "nbformat_minor": 0,
  "metadata": {
    "colab": {
      "name": "Dataset to Csv Converter.ipynb",
      "provenance": []
    },
    "kernelspec": {
      "name": "python3",
      "display_name": "Python 3"
    }
  },
  "cells": [
    {
      "cell_type": "code",
      "metadata": {
        "colab": {
          "base_uri": "https://localhost:8080/"
        },
        "id": "4mwVMUi-bqZT",
        "outputId": "96ab0471-9406-4420-ac6d-60efecebf64a"
      },
      "source": [
        "from google.colab import drive\n",
        "drive.mount('/gdrive')"
      ],
      "execution_count": null,
      "outputs": [
        {
          "output_type": "stream",
          "text": [
            "Mounted at /gdrive\n"
          ],
          "name": "stdout"
        }
      ]
    },
    {
      "cell_type": "code",
      "metadata": {
        "id": "9_t4SdgzbqZU"
      },
      "source": [
        "train_dir = \"/gdrive/MyDrive/Affectnet+100KDEF/\"\n",
        "test_dir = \"/gdrive/MyDrive/KDEF-100/\""
      ],
      "execution_count": null,
      "outputs": []
    },
    {
      "cell_type": "code",
      "metadata": {
        "id": "yLC88YPhXm3-"
      },
      "source": [
        "import glob\r\n",
        "import PIL\r\n",
        "import numpy\r\n",
        "def createFileList(myDir, format=('.jpg', '.JPG',\".png\",\".PNG\",\".jpeg\",\".JPEG\")):\r\n",
        "    fileList = []\r\n",
        "    print(myDir)\r\n",
        "    for root, dirs, files in os.walk(myDir, topdown=False):\r\n",
        "        for name in files:\r\n",
        "            if name.endswith(format):\r\n",
        "                fullName = os.path.join(root, name)\r\n",
        "                fileList.append(fullName)\r\n",
        "    return fileList\r\n",
        "\r\n",
        "# load the original image\r\n",
        "myFileList = createFileList(train_dir)\r\n",
        "\r\n",
        "for file in myFileList:\r\n",
        "  data = np.array([ np.array(PIL.Image.open(file).convert(\"RGB\")).ravel()\r\n",
        "  with open(\"train_affectnet.csv\", 'a') as f:\r\n",
        "    writer = csv.writer(f)\r\n",
        "    writer.writerow(value)"
      ],
      "execution_count": null,
      "outputs": []
    },
    {
      "cell_type": "code",
      "metadata": {
        "id": "WYpXzKVEcPQx"
      },
      "source": [
        "from PIL import Image\r\n",
        "import numpy as np\r\n",
        "import sys\r\n",
        "import os\r\n",
        "import csv\r\n",
        "\r\n",
        "# default format can be changed as needed\r\n",
        "def createFileList(myDir, format=('.jpg', '.JPG',\".png\",\".PNG\",\".jpeg\",\".JPEG\")):\r\n",
        "    fileList = []\r\n",
        "    print(myDir)\r\n",
        "    for root, dirs, files in os.walk(myDir, topdown=False):\r\n",
        "        for name in files:\r\n",
        "            if name.endswith(format):\r\n",
        "                fullName = os.path.join(root, name)\r\n",
        "                fileList.append(fullName)\r\n",
        "    return fileList\r\n",
        "\r\n",
        "# load the original image\r\n",
        "myFileList = createFileList(train_dir)\r\n",
        "\r\n",
        "for file in myFileList:\r\n",
        "    img_file = Image.open(file)\r\n",
        "    # Make image Greyscale\r\n",
        "    img_grey = img_file.convert('L')\r\n",
        "\r\n",
        "    # Save Greyscale values\r\n",
        "    value = np.asarray(img_grey.getdata(), dtype=np.int).reshape((img_grey.size[1], img_grey.size[0]))\r\n",
        "    value = value.flatten()\r\n",
        "    with open(\"train_test.csv\", 'a') as f:\r\n",
        "        writer = csv.writer(f)\r\n",
        "        writer.writerow(value)"
      ],
      "execution_count": null,
      "outputs": []
    },
    {
      "cell_type": "code",
      "metadata": {
        "id": "iXOvwFgla8Jr"
      },
      "source": [
        "import numpy as np\r\n",
        "import cv2\r\n",
        "\r\n",
        "IMG_DIR = 'directory'\r\n",
        "\r\n",
        "for img in os.listdir(IMG_DIR):\r\n",
        "        img_array = cv2.imread(os.path.join(IMG_DIR,img), cv2.IMREAD_GRAYSCALE)\r\n",
        "        # unnecesary because imread already returns a numpy.array\r\n",
        "        #img_array = np.array(img_array)\r\n",
        "        img_array = (img_array.flatten())\r\n",
        "        # add one dimension back to the array and \r\n",
        "        # transpose it to have the a row matrix instead of a column matrix\r\n",
        "        img_array  = img_array.reshape(-1, 1).T\r\n",
        "        print(img_array)\r\n",
        "        # opening in binary and append mode\r\n",
        "        with open('output.csv', 'ab') as f:\r\n",
        "            # expliciting the delimiter as a comma\r\n",
        "            np.savetxt(f, img_array, delimiter=\",\")"
      ],
      "execution_count": null,
      "outputs": []
    },
    {
      "cell_type": "markdown",
      "metadata": {
        "id": "BVhbYI21a7pf"
      },
      "source": [
        ""
      ]
    }
  ]
}